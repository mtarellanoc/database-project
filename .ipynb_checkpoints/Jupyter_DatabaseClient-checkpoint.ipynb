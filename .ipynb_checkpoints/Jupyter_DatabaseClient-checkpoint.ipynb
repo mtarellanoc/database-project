{
 "cells": [
  {
   "cell_type": "code",
   "execution_count": 1,
   "id": "4c287f61-8b27-475e-9a49-428d9eb931b6",
   "metadata": {},
   "outputs": [],
   "source": [
    "#!pip install mysql-connector-python # this install package mysql-connector\n",
    "from mysql import connector\n",
    "\n",
    "# Establish connection between Python and MySQL database via connector API\n",
    "dbconfig = {\n",
    "    \"user\": \"Mariano\",\n",
    "    \"password\": \"password\",\n",
    "    \"database\": \"littlelemondb\"}\n",
    "\n",
    "# Create cursor object to communicate with entire MySQL database\n",
    "connection=connector.connect(**dbconfig)\n",
    "cursor = connection.cursor()"
   ]
  },
  {
   "cell_type": "code",
   "execution_count": 2,
   "id": "2dfed354-d9b2-4c12-b9f6-2be5f3340790",
   "metadata": {},
   "outputs": [
    {
     "name": "stdout",
     "output_type": "stream",
     "text": [
      "('Tables_in_littlelemondb',)\n",
      "('bookings',)\n",
      "('customers',)\n",
      "('employees',)\n",
      "('highcostview',)\n",
      "('highquantityview',)\n",
      "('menuitems',)\n",
      "('orderdeliverystatus',)\n",
      "('orders',)\n",
      "('ordersview',)\n"
     ]
    }
   ],
   "source": [
    "show_tables_query = \"show tables;\" \n",
    "\n",
    "cursor.execute(show_tables_query)\n",
    "col = cursor.column_names\n",
    "print(col)\n",
    "results = cursor.fetchall()\n",
    "for result in results:\n",
    "    print(result)"
   ]
  },
  {
   "cell_type": "code",
   "execution_count": 3,
   "id": "097a2b71-4c22-47e0-9dc7-5f9635d4176f",
   "metadata": {},
   "outputs": [
    {
     "name": "stdout",
     "output_type": "stream",
     "text": [
      "('CustomerID', 'FullName', 'Email', 'PhoneNo')\n"
     ]
    }
   ],
   "source": [
    "query = \"\"\"\n",
    "    select\n",
    "    \tcustomers.CustomerID,\n",
    "        customers.FullName,\n",
    "        customers.Email,\n",
    "        customers.PhoneNo\n",
    "    from customers\n",
    "    inner join orders on customers.CustomerID = orders.CustomerID\n",
    "    where orders.TotalCost >= 60;\n",
    "\"\"\"\n",
    "cursor.execute(query)\n",
    "col = cursor.column_names\n",
    "print(col)\n",
    "results = cursor.fetchall()\n",
    "for result in results:\n",
    "    print(result)"
   ]
  }
 ],
 "metadata": {
  "kernelspec": {
   "display_name": "Python 3 (ipykernel)",
   "language": "python",
   "name": "python3"
  },
  "language_info": {
   "codemirror_mode": {
    "name": "ipython",
    "version": 3
   },
   "file_extension": ".py",
   "mimetype": "text/x-python",
   "name": "python",
   "nbconvert_exporter": "python",
   "pygments_lexer": "ipython3",
   "version": "3.12.3"
  }
 },
 "nbformat": 4,
 "nbformat_minor": 5
}
